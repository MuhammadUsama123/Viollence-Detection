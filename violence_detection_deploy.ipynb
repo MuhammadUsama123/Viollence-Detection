{
 "cells": [
  {
   "cell_type": "code",
   "execution_count": 1,
   "id": "5dfe54e3",
   "metadata": {},
   "outputs": [],
   "source": [
    "from tensorflow.keras.models import load_model\n",
    "#from tensorflow.keras.preprocessing.image import img_to_array\n",
    "import numpy as np\n",
    "#from PIL import Image"
   ]
  },
  {
   "cell_type": "code",
   "execution_count": 2,
   "id": "d762a6b3",
   "metadata": {},
   "outputs": [],
   "source": [
    "model = load_model('my_model.h5')"
   ]
  },
  {
   "cell_type": "code",
   "execution_count": null,
   "id": "ea291e75",
   "metadata": {},
   "outputs": [],
   "source": []
  },
  {
   "cell_type": "code",
   "execution_count": 5,
   "id": "0651ce7d",
   "metadata": {},
   "outputs": [],
   "source": [
    "# Load and preprocess the image you want to test\n",
    "#test_image_path = 'test/pose.jpg'\n",
    "#test_image = preprocess_image(test_image_path)\n",
    "\n",
    "test_image = np.load('test/idle.npy')\n",
    "test_image = np.load('test/highfive.npy')\n",
    "test_image = np.load('test/pose.npy')\n",
    "test_image = np.load('test/slap.npy')\n",
    "test_image = np.load('test/grapple.npy')\n",
    "test_image = np.load('test/club.npy')\n",
    "test_image = np.load('test/kick.npy')"
   ]
  },
  {
   "cell_type": "code",
   "execution_count": 6,
   "id": "20167f20",
   "metadata": {},
   "outputs": [
    {
     "name": "stdout",
     "output_type": "stream",
     "text": [
      "1/1 [==============================] - 0s 30ms/step\n",
      "The model predicts: kick\n"
     ]
    }
   ],
   "source": [
    "# Make a prediction\n",
    "prediction = model.predict(test_image)\n",
    "\n",
    "classes = ['idle','walk','highfive','pose','slap','grapple','club','kick','pose']\n",
    "\n",
    "# Decode the prediction\n",
    "predicted_class_index = np.argmax(prediction, axis=1)\n",
    "#predicted_class = label_encoder.inverse_transform(predicted_class_index)  # Ensure label_encoder is the one used during training\n",
    "\n",
    "print(f\"The model predicts: {classes[predicted_class_index[0]]}\")"
   ]
  },
  {
   "cell_type": "code",
   "execution_count": null,
   "id": "8d6eedab",
   "metadata": {},
   "outputs": [],
   "source": []
  },
  {
   "cell_type": "code",
   "execution_count": null,
   "id": "82a44b4f",
   "metadata": {},
   "outputs": [],
   "source": []
  }
 ],
 "metadata": {
  "kernelspec": {
   "display_name": "Python 3 (ipykernel)",
   "language": "python",
   "name": "python3"
  },
  "language_info": {
   "codemirror_mode": {
    "name": "ipython",
    "version": 3
   },
   "file_extension": ".py",
   "mimetype": "text/x-python",
   "name": "python",
   "nbconvert_exporter": "python",
   "pygments_lexer": "ipython3",
   "version": "3.10.13"
  }
 },
 "nbformat": 4,
 "nbformat_minor": 5
}
